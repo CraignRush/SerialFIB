{
 "cells": [
  {
   "cell_type": "code",
   "execution_count": 3,
   "metadata": {},
   "outputs": [
    {
     "ename": "ImportError",
     "evalue": "No module named 'FLM_client'",
     "output_type": "error",
     "traceback": [
      "\u001b[1;31m---------------------------------------------------------------------------\u001b[0m",
      "\u001b[1;31mImportError\u001b[0m                               Traceback (most recent call last)",
      "\u001b[1;32m<ipython-input-3-bbcfa4a789ab>\u001b[0m in \u001b[0;36m<module>\u001b[1;34m()\u001b[0m\n\u001b[1;32m----> 1\u001b[1;33m \u001b[1;32mfrom\u001b[0m \u001b[0mFLM_client\u001b[0m \u001b[1;32mimport\u001b[0m \u001b[0mClient\u001b[0m\u001b[1;33m\u001b[0m\u001b[0m\n\u001b[0m\u001b[0;32m      2\u001b[0m \u001b[1;33m\u001b[0m\u001b[0m\n\u001b[0;32m      3\u001b[0m \u001b[0mmeteor\u001b[0m \u001b[1;33m=\u001b[0m \u001b[0mClient\u001b[0m\u001b[1;33m(\u001b[0m\u001b[1;33m)\u001b[0m\u001b[1;33m\u001b[0m\u001b[0m\n\u001b[0;32m      4\u001b[0m \u001b[0mstack\u001b[0m \u001b[1;33m=\u001b[0m \u001b[0mmeteor\u001b[0m\u001b[1;33m.\u001b[0m\u001b[0mexecute_TEST\u001b[0m\u001b[1;33m(\u001b[0m\u001b[1;33m)\u001b[0m\u001b[1;33m\u001b[0m\u001b[0m\n",
      "\u001b[1;31mImportError\u001b[0m: No module named 'FLM_client'"
     ]
    }
   ],
   "source": [
    "from src.FLM_client import Client\n",
    "\n",
    "meteor = Client()\n",
    "stack = meteor.execute_TEST()"
   ]
  },
  {
   "cell_type": "code",
   "execution_count": 10,
   "metadata": {},
   "outputs": [],
   "source": [
    "stack = stack[0]"
   ]
  },
  {
   "cell_type": "code",
   "execution_count": 19,
   "metadata": {},
   "outputs": [
    {
     "name": "stdout",
     "output_type": "stream",
     "text": [
      "Warning: Cannot change to a different GUI toolkit: notebook. Using qt instead.\n"
     ]
    },
    {
     "name": "stderr",
     "output_type": "stream",
     "text": [
      "c:\\Program Files\\Python35\\envs\\AutoScript\\lib\\site-packages\\matplotlib\\axes\\_base.py:2903: UserWarning: Attempting to set identical left==right results\n",
      "in singular transformations; automatically expanding.\n",
      "left=0, right=0\n",
      "  'left=%s, right=%s') % (left, right))\n"
     ]
    }
   ],
   "source": [
    "import matplotlib.pyplot as plt\n",
    "from matplotlib.widgets import Slider\n",
    "%matplotlib notebook\n",
    "\n",
    "time, num_slices, num_channels, height, width = stack.shape\n",
    "\n",
    "fig, ax = plt.subplots()\n",
    "plt.subplots_adjust(bottom=0.15)\n",
    "\n",
    "# Initialize the slice and channel indices\n",
    "slice_idx = 0\n",
    "channel_idx = 0\n",
    "\n",
    "# Plot the initial slice\n",
    "img = ax.imshow(stack[0,slice_idx, channel_idx], cmap='gray')\n",
    "\n",
    "# Create a slider for the slice index\n",
    "ax_slice = plt.axes([0.15, 0.05, 0.7, 0.03])\n",
    "slider_slice = Slider(ax_slice, 'Slice', 0, num_slices - 1, valinit=slice_idx)\n",
    "\n",
    "# Create a slider for the channel index\n",
    "ax_channel = plt.axes([0.15, 0.1, 0.7, 0.03])\n",
    "slider_channel = Slider(ax_channel, 'Channel', 0, num_channels - 1, valinit=channel_idx)\n",
    "\n",
    "def update(val):\n",
    "    #nonlocal slice_idx, channel_idx, img\n",
    "\n",
    "    # Get the updated slice and channel indices\n",
    "    slice_idx = int(slider_slice.val)\n",
    "    channel_idx = int(slider_channel.val)\n",
    "\n",
    "    # Update the displayed image\n",
    "    img.set_data(stack[0, slice_idx, channel_idx])\n",
    "    fig.canvas.draw()\n",
    "\n",
    "slider_slice.on_changed(update)\n",
    "slider_channel.on_changed(update)\n",
    "\n",
    "plt.show()"
   ]
  }
 ],
 "metadata": {
  "kernelspec": {
   "display_name": "Python 3.5.2 64-bit",
   "language": "python",
   "name": "python3"
  },
  "language_info": {
   "codemirror_mode": {
    "name": "ipython",
    "version": 3
   },
   "file_extension": ".py",
   "mimetype": "text/x-python",
   "name": "python",
   "nbconvert_exporter": "python",
   "pygments_lexer": "ipython3",
   "version": "3.5.2"
  },
  "orig_nbformat": 4,
  "vscode": {
   "interpreter": {
    "hash": "206f9c05e78a8c5fc0d13d6cfca9781bd9bf874b8e5991367cf688e9d4bf5863"
   }
  }
 },
 "nbformat": 4,
 "nbformat_minor": 2
}
